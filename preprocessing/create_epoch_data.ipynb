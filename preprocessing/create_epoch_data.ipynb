{
 "cells": [
  {
   "cell_type": "code",
   "execution_count": 1,
   "metadata": {},
   "outputs": [],
   "source": [
    "import hmp\n",
    "import numpy as np\n",
    "import matplotlib.pyplot as plt\n",
    "from mne.io import read_info\n",
    "import os"
   ]
  },
  {
   "cell_type": "code",
   "execution_count": 2,
   "metadata": {},
   "outputs": [
    {
     "name": "stdout",
     "output_type": "stream",
     "text": [
      "Processing participant ../data/subjects/epochs-s09-epo.fif's epoched eeg\n",
      "90 trials were retained for participant ../data/subjects/epochs-s09-epo.fif\n",
      "Processing participant ../data/subjects/epochs-s37-epo.fif's epoched eeg\n",
      "95 trials were retained for participant ../data/subjects/epochs-s37-epo.fif\n",
      "Processing participant ../data/subjects/epochs-s29-epo.fif's epoched eeg\n",
      "97 trials were retained for participant ../data/subjects/epochs-s29-epo.fif\n",
      "Processing participant ../data/subjects/epochs-s46-epo.fif's epoched eeg\n",
      "106 trials were retained for participant ../data/subjects/epochs-s46-epo.fif\n",
      "Processing participant ../data/subjects/epochs-s45-epo.fif's epoched eeg\n",
      "94 trials were retained for participant ../data/subjects/epochs-s45-epo.fif\n",
      "Processing participant ../data/subjects/epochs-s19-epo.fif's epoched eeg\n",
      "98 trials were retained for participant ../data/subjects/epochs-s19-epo.fif\n",
      "Processing participant ../data/subjects/epochs-s14-epo.fif's epoched eeg\n",
      "103 trials were retained for participant ../data/subjects/epochs-s14-epo.fif\n",
      "Processing participant ../data/subjects/epochs-s07-epo.fif's epoched eeg\n",
      "113 trials were retained for participant ../data/subjects/epochs-s07-epo.fif\n",
      "Processing participant ../data/subjects/epochs-s40-epo.fif's epoched eeg\n",
      "89 trials were retained for participant ../data/subjects/epochs-s40-epo.fif\n",
      "Processing participant ../data/subjects/epochs-s10-epo.fif's epoched eeg\n",
      "95 trials were retained for participant ../data/subjects/epochs-s10-epo.fif\n",
      "Processing participant ../data/subjects/epochs-s21-epo.fif's epoched eeg\n",
      "103 trials were retained for participant ../data/subjects/epochs-s21-epo.fif\n",
      "Processing participant ../data/subjects/epochs-s18-epo.fif's epoched eeg\n",
      "98 trials were retained for participant ../data/subjects/epochs-s18-epo.fif\n",
      "Processing participant ../data/subjects/epochs-s03-epo.fif's epoched eeg\n",
      "107 trials were retained for participant ../data/subjects/epochs-s03-epo.fif\n",
      "Processing participant ../data/subjects/epochs-s05-epo.fif's epoched eeg\n",
      "80 trials were retained for participant ../data/subjects/epochs-s05-epo.fif\n",
      "Processing participant ../data/subjects/epochs-s23-epo.fif's epoched eeg\n",
      "101 trials were retained for participant ../data/subjects/epochs-s23-epo.fif\n",
      "Processing participant ../data/subjects/epochs-s36-epo.fif's epoched eeg\n",
      "99 trials were retained for participant ../data/subjects/epochs-s36-epo.fif\n",
      "Processing participant ../data/subjects/epochs-s22-epo.fif's epoched eeg\n",
      "90 trials were retained for participant ../data/subjects/epochs-s22-epo.fif\n",
      "Processing participant ../data/subjects/epochs-s51-epo.fif's epoched eeg\n",
      "117 trials were retained for participant ../data/subjects/epochs-s51-epo.fif\n",
      "Processing participant ../data/subjects/epochs-s33-epo.fif's epoched eeg\n",
      "115 trials were retained for participant ../data/subjects/epochs-s33-epo.fif\n",
      "Processing participant ../data/subjects/epochs-s20-epo.fif's epoched eeg\n",
      "106 trials were retained for participant ../data/subjects/epochs-s20-epo.fif\n",
      "Processing participant ../data/subjects/epochs-s47-epo.fif's epoched eeg\n",
      "105 trials were retained for participant ../data/subjects/epochs-s47-epo.fif\n",
      "Processing participant ../data/subjects/epochs-s34-epo.fif's epoched eeg\n",
      "112 trials were retained for participant ../data/subjects/epochs-s34-epo.fif\n",
      "Processing participant ../data/subjects/epochs-s06-epo.fif's epoched eeg\n",
      "111 trials were retained for participant ../data/subjects/epochs-s06-epo.fif\n",
      "Processing participant ../data/subjects/epochs-s15-epo.fif's epoched eeg\n",
      "111 trials were retained for participant ../data/subjects/epochs-s15-epo.fif\n",
      "Processing participant ../data/subjects/epochs-s17-epo.fif's epoched eeg\n",
      "105 trials were retained for participant ../data/subjects/epochs-s17-epo.fif\n",
      "Processing participant ../data/subjects/epochs-s16-epo.fif's epoched eeg\n",
      "98 trials were retained for participant ../data/subjects/epochs-s16-epo.fif\n",
      "Processing participant ../data/subjects/epochs-s38-epo.fif's epoched eeg\n",
      "92 trials were retained for participant ../data/subjects/epochs-s38-epo.fif\n",
      "Processing participant ../data/subjects/epochs-s43-epo.fif's epoched eeg\n",
      "96 trials were retained for participant ../data/subjects/epochs-s43-epo.fif\n",
      "Processing participant ../data/subjects/epochs-s13-epo.fif's epoched eeg\n",
      "104 trials were retained for participant ../data/subjects/epochs-s13-epo.fif\n",
      "Processing participant ../data/subjects/epochs-s41-epo.fif's epoched eeg\n",
      "97 trials were retained for participant ../data/subjects/epochs-s41-epo.fif\n",
      "Processing participant ../data/subjects/epochs-s42-epo.fif's epoched eeg\n",
      "101 trials were retained for participant ../data/subjects/epochs-s42-epo.fif\n",
      "Processing participant ../data/subjects/epochs-s28-epo.fif's epoched eeg\n",
      "101 trials were retained for participant ../data/subjects/epochs-s28-epo.fif\n",
      "Processing participant ../data/subjects/epochs-s25-epo.fif's epoched eeg\n",
      "109 trials were retained for participant ../data/subjects/epochs-s25-epo.fif\n",
      "Processing participant ../data/subjects/epochs-s01-epo.fif's epoched eeg\n",
      "111 trials were retained for participant ../data/subjects/epochs-s01-epo.fif\n",
      "Processing participant ../data/subjects/epochs-s32-epo.fif's epoched eeg\n",
      "99 trials were retained for participant ../data/subjects/epochs-s32-epo.fif\n",
      "Processing participant ../data/subjects/epochs-s44-epo.fif's epoched eeg\n",
      "93 trials were retained for participant ../data/subjects/epochs-s44-epo.fif\n",
      "Processing participant ../data/subjects/epochs-s11-epo.fif's epoched eeg\n",
      "98 trials were retained for participant ../data/subjects/epochs-s11-epo.fif\n",
      "Processing participant ../data/subjects/epochs-s35-epo.fif's epoched eeg\n",
      "96 trials were retained for participant ../data/subjects/epochs-s35-epo.fif\n",
      "Processing participant ../data/subjects/epochs-s50-epo.fif's epoched eeg\n",
      "89 trials were retained for participant ../data/subjects/epochs-s50-epo.fif\n",
      "Processing participant ../data/subjects/epochs-s49-epo.fif's epoched eeg\n",
      "117 trials were retained for participant ../data/subjects/epochs-s49-epo.fif\n"
     ]
    }
   ],
   "source": [
    "sfreq = 100 #at what sampling rate we want the data, downsampling to 100Hz is computationally less intensive for hmp instances\n",
    "\n",
    "epoch_data_path = os.path.join('../data/subjects/')#Declaring path where the eeg data is\n",
    "subj_names = [x.split('.')[0] for x in os.listdir(epoch_data_path) if 'epo.fif' in x]#Extracting subject name based on the file name\n",
    "subj_files = [epoch_data_path+x+'.fif' for x in subj_names]#Create a list of files that can be read from the folder\n",
    "\n",
    "info = read_info(subj_files[0], verbose=False)\n",
    "\n",
    "channels = ['Fp1', 'Fp2', 'F7', 'F3', 'Fz', 'F4', 'F8', 'FC5', 'FC1', 'FC2', 'FC6', 'T7', 'C3', 'Cz', 'C4', 'T8', 'TP9', 'CP5', 'CP1', 'CP2', 'CP6', 'TP10', 'P7', 'P3', 'Pz', 'P4', 'P8', 'PO9', 'O1', 'Oz', 'O2', 'PO10', 'VEOG', 'HEOG']\n",
    "\n",
    "epoch_data = hmp.utils.read_mne_data(subj_files, epoched=True, sfreq=sfreq,\n",
    "                            lower_limit_RT=0.2, upper_limit_RT=2,\n",
    "                            verbose=False, subj_idx=subj_names)\n"
   ]
  },
  {
   "cell_type": "code",
   "execution_count": 3,
   "metadata": {},
   "outputs": [],
   "source": [
    "folder_path = '../data/hmp_data/'\n",
    "if not os.path.exists(folder_path):\n",
    "    os.makedirs(folder_path)\n",
    "\n",
    "epoch_data.to_netcdf('../data/hmp_data/epoch_data.nc')"
   ]
  }
 ],
 "metadata": {
  "kernelspec": {
   "display_name": "Python 3",
   "language": "python",
   "name": "python3"
  },
  "language_info": {
   "codemirror_mode": {
    "name": "ipython",
    "version": 3
   },
   "file_extension": ".py",
   "mimetype": "text/x-python",
   "name": "python",
   "nbconvert_exporter": "python",
   "pygments_lexer": "ipython3",
   "version": "3.10.12"
  }
 },
 "nbformat": 4,
 "nbformat_minor": 2
}
